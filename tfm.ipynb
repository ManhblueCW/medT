{
 "cells": [
  {
   "cell_type": "markdown",
   "id": "9a6495ef",
   "metadata": {},
   "source": [
    "# A. Neural Machine Translation with Transformer model"
   ]
  },
  {
   "cell_type": "markdown",
   "id": "69b34ee6",
   "metadata": {
    "papermill": {
     "duration": 0.017945,
     "end_time": "2022-04-26T18:39:16.199256",
     "exception": false,
     "start_time": "2022-04-26T18:39:16.181311",
     "status": "completed"
    },
    "tags": []
   },
   "source": [
    "## 0. Import libraries"
   ]
  },
  {
   "cell_type": "code",
   "execution_count": null,
   "id": "387a2b6b",
   "metadata": {
    "execution": {
     "iopub.execute_input": "2022-04-26T18:39:16.239965Z",
     "iopub.status.busy": "2022-04-26T18:39:16.238473Z",
     "iopub.status.idle": "2022-04-26T18:39:28.005531Z",
     "shell.execute_reply": "2022-04-26T18:39:28.004937Z",
     "shell.execute_reply.started": "2022-04-26T18:19:07.608325Z"
    },
    "papermill": {
     "duration": 11.787901,
     "end_time": "2022-04-26T18:39:28.005703",
     "exception": false,
     "start_time": "2022-04-26T18:39:16.217802",
     "status": "completed"
    },
    "tags": []
   },
   "outputs": [],
   "source": [
    "# %%capture\n",
    "# !pip install fasttext underthesea nltk "
   ]
  },
  {
   "cell_type": "code",
   "execution_count": 5,
   "id": "9c7249e4",
   "metadata": {
    "_cell_guid": "b1076dfc-b9ad-4769-8c92-a6c4dae69d19",
    "_uuid": "8f2839f25d086af736a60e9eeb907d3b93b6e0e5",
    "execution": {
     "iopub.execute_input": "2022-04-26T18:39:28.044974Z",
     "iopub.status.busy": "2022-04-26T18:39:28.044293Z",
     "iopub.status.idle": "2022-04-26T18:39:33.296254Z",
     "shell.execute_reply": "2022-04-26T18:39:33.295768Z",
     "shell.execute_reply.started": "2022-04-26T18:19:19.416152Z"
    },
    "papermill": {
     "duration": 5.27381,
     "end_time": "2022-04-26T18:39:33.296386",
     "exception": false,
     "start_time": "2022-04-26T18:39:28.022576",
     "status": "completed"
    },
    "tags": []
   },
   "outputs": [],
   "source": [
    "import re\n",
    "import json\n",
    "import string\n",
    "import random\n",
    "import warnings\n",
    "\n",
    "import numpy as np\n",
    "import matplotlib.pyplot as plt\n",
    "import tensorflow as tf\n",
    "\n",
    "from tensorflow import keras\n",
    "from tensorflow.keras import layers\n",
    "from tensorflow.keras.layers import TextVectorization\n",
    "from tqdm.notebook import tqdm\n",
    "\n",
    "warnings.filterwarnings('ignore')"
   ]
  },
  {
   "cell_type": "markdown",
   "id": "647bfef6",
   "metadata": {
    "papermill": {
     "duration": 0.017375,
     "end_time": "2022-04-26T18:39:34.456384",
     "exception": false,
     "start_time": "2022-04-26T18:39:34.439009",
     "status": "completed"
    },
    "tags": []
   },
   "source": [
    "## 1. Vectorizing the text data and format our datasets"
   ]
  },
  {
   "cell_type": "markdown",
   "id": "bed20b85",
   "metadata": {},
   "source": [
    "Load data"
   ]
  },
  {
   "cell_type": "code",
   "execution_count": 1,
   "id": "bc678877",
   "metadata": {},
   "outputs": [
    {
     "name": "stdout",
     "output_type": "stream",
     "text": [
      "Train size: 490000, Validation size: 10000\n"
     ]
    }
   ],
   "source": [
    "# Load train\n",
    "with open(\"data/train.en.txt\", encoding=\"utf-8\") as f:\n",
    "    train_en = [line.strip() for line in f]\n",
    "\n",
    "with open(\"data/train.vi.txt\", encoding=\"utf-8\") as f:\n",
    "    train_vi = [line.strip() for line in f]\n",
    "\n",
    "# Load test\n",
    "with open(\"data/test.en.txt\", encoding=\"utf-8\") as f:\n",
    "    test_en = [line.strip() for line in f]\n",
    "\n",
    "with open(\"data/test.vi.txt\", encoding=\"utf-8\") as f:\n",
    "    test_vi = [line.strip() for line in f]\n",
    "\n",
    "val_ratio = 0.02\n",
    "val_size = int(len(train_en) * val_ratio)\n",
    "\n",
    "val_en = train_en[-val_size:]\n",
    "val_vi = train_vi[-val_size:]\n",
    "\n",
    "train_en = train_en[:-val_size]\n",
    "train_vi = train_vi[:-val_size]\n",
    "\n",
    "print(f\"Train size: {len(train_en)}, Validation size: {len(val_en)}\")"
   ]
  },
  {
   "cell_type": "code",
   "execution_count": 8,
   "id": "890f6ee6",
   "metadata": {
    "execution": {
     "iopub.execute_input": "2022-04-26T18:39:34.499208Z",
     "iopub.status.busy": "2022-04-26T18:39:34.498681Z",
     "iopub.status.idle": "2022-04-26T18:39:59.245176Z",
     "shell.execute_reply": "2022-04-26T18:39:59.244552Z",
     "shell.execute_reply.started": "2022-04-26T18:19:25.905830Z"
    },
    "papermill": {
     "duration": 24.77147,
     "end_time": "2022-04-26T18:39:59.245337",
     "exception": false,
     "start_time": "2022-04-26T18:39:34.473867",
     "status": "completed"
    },
    "tags": []
   },
   "outputs": [],
   "source": [
    "strip_chars = string.punctuation\n",
    "strip_chars = strip_chars.replace('[', '')\n",
    "strip_chars = strip_chars.replace(']', '')\n",
    "\n",
    "vocab_size = 15000\n",
    "sequence_length = 40\n",
    "batch_size = 64\n",
    "\n",
    "def custom_standardization(input_string):\n",
    "    lowercase = tf.strings.lower(input_string)\n",
    "    return tf.strings.regex_replace(lowercase, '[%s]' % re.escape(strip_chars), '')\n",
    "\n",
    "en_vectorization = TextVectorization(\n",
    "    max_tokens=vocab_size,\n",
    "    output_mode='int',\n",
    "    output_sequence_length=sequence_length\n",
    ")\n",
    "vi_vectorization = TextVectorization(\n",
    "    max_tokens=vocab_size,\n",
    "    output_mode='int',\n",
    "    output_sequence_length=sequence_length + 1,\n",
    "    standardize=custom_standardization\n",
    ")\n",
    "\n",
    "en_vectorization.adapt(train_en)\n",
    "vi_vectorization.adapt(train_vi)"
   ]
  },
  {
   "cell_type": "code",
   "execution_count": 10,
   "id": "20b46f2b",
   "metadata": {
    "execution": {
     "iopub.execute_input": "2022-04-26T18:39:59.302350Z",
     "iopub.status.busy": "2022-04-26T18:39:59.301745Z",
     "iopub.status.idle": "2022-04-26T18:40:00.904553Z",
     "shell.execute_reply": "2022-04-26T18:40:00.905140Z",
     "shell.execute_reply.started": "2022-04-26T18:19:45.670635Z"
    },
    "papermill": {
     "duration": 1.640521,
     "end_time": "2022-04-26T18:40:00.905321",
     "exception": false,
     "start_time": "2022-04-26T18:39:59.264800",
     "status": "completed"
    },
    "tags": []
   },
   "outputs": [],
   "source": [
    "def format_dataset(en, vi):\n",
    "    en = en_vectorization(en)\n",
    "    vi = vi_vectorization(vi)\n",
    "    return ({\n",
    "        'encoder_inputs': en,\n",
    "        'decoder_inputs': vi[:, :-1]\n",
    "    }, vi[:, 1:])\n",
    "\n",
    "def make_dataset(src, tgt):\n",
    "    src = list(src)\n",
    "    tgt = list(tgt)\n",
    "    \n",
    "    dataset = tf.data.Dataset.from_tensor_slices((src, tgt))\n",
    "    dataset = dataset.batch(batch_size)\n",
    "    dataset = dataset.map(format_dataset)\n",
    "    \n",
    "    return dataset.shuffle(2048).prefetch(16).cache()\n",
    "\n",
    "train_ds = make_dataset(train_en, train_vi)\n",
    "val_ds = make_dataset(val_en, val_vi)"
   ]
  },
  {
   "cell_type": "code",
   "execution_count": 11,
   "id": "e4c62864",
   "metadata": {
    "execution": {
     "iopub.execute_input": "2022-04-26T18:40:00.951216Z",
     "iopub.status.busy": "2022-04-26T18:40:00.950402Z",
     "iopub.status.idle": "2022-04-26T18:40:02.275257Z",
     "shell.execute_reply": "2022-04-26T18:40:02.275875Z",
     "shell.execute_reply.started": "2022-04-26T18:19:47.229009Z"
    },
    "papermill": {
     "duration": 1.349729,
     "end_time": "2022-04-26T18:40:02.276064",
     "exception": false,
     "start_time": "2022-04-26T18:40:00.926335",
     "status": "completed"
    },
    "tags": []
   },
   "outputs": [
    {
     "name": "stdout",
     "output_type": "stream",
     "text": [
      "inputs[\"encoder_inputs\"].shape: (64, 40)\n",
      "inputs[\"decoder_inputs\"].shape: (64, 40)\n",
      "targets.shape: (64, 40)\n"
     ]
    }
   ],
   "source": [
    "for inputs, targets in train_ds.take(1):\n",
    "    print(f'inputs[\"encoder_inputs\"].shape: {inputs[\"encoder_inputs\"].shape}')\n",
    "    print(f'inputs[\"decoder_inputs\"].shape: {inputs[\"decoder_inputs\"].shape}')\n",
    "    print(f\"targets.shape: {targets.shape}\")"
   ]
  },
  {
   "cell_type": "markdown",
   "id": "fe813c1e",
   "metadata": {
    "papermill": {
     "duration": 0.019624,
     "end_time": "2022-04-26T18:40:02.316615",
     "exception": false,
     "start_time": "2022-04-26T18:40:02.296991",
     "status": "completed"
    },
    "tags": []
   },
   "source": [
    "## 2. Building the model"
   ]
  },
  {
   "cell_type": "code",
   "execution_count": 12,
   "id": "e7477a21",
   "metadata": {
    "execution": {
     "iopub.execute_input": "2022-04-26T18:40:02.384482Z",
     "iopub.status.busy": "2022-04-26T18:40:02.383496Z",
     "iopub.status.idle": "2022-04-26T18:40:02.386193Z",
     "shell.execute_reply": "2022-04-26T18:40:02.385641Z",
     "shell.execute_reply.started": "2022-04-26T18:31:20.777987Z"
    },
    "papermill": {
     "duration": 0.049811,
     "end_time": "2022-04-26T18:40:02.386333",
     "exception": false,
     "start_time": "2022-04-26T18:40:02.336522",
     "status": "completed"
    },
    "tags": []
   },
   "outputs": [],
   "source": [
    "class TransformerEncoder(layers.Layer):\n",
    "    def __init__(self, embed_dim, dense_dim, num_heads, **kwargs):\n",
    "        super(TransformerEncoder, self).__init__(**kwargs)\n",
    "        self.embed_dim = embed_dim\n",
    "        self.dense_dim = dense_dim\n",
    "        self.num_heads = num_heads\n",
    "        self.attention = layers.MultiHeadAttention(\n",
    "            num_heads=num_heads, key_dim=embed_dim\n",
    "        )\n",
    "        self.dense_proj = keras.Sequential(\n",
    "            [layers.Dense(dense_dim, activation=\"relu\"), layers.Dense(embed_dim),]\n",
    "        )\n",
    "        self.layernorm_1 = layers.LayerNormalization()\n",
    "        self.layernorm_2 = layers.LayerNormalization()\n",
    "        self.supports_masking = True\n",
    "\n",
    "    def call(self, inputs, mask=None):\n",
    "        if mask is not None:\n",
    "            padding_mask = tf.cast(mask[:, tf.newaxis, tf.newaxis, :], dtype=\"int32\")\n",
    "        attention_output = self.attention(\n",
    "            query=inputs, value=inputs, key=inputs, attention_mask=padding_mask\n",
    "        )\n",
    "        proj_input = self.layernorm_1(inputs + attention_output)\n",
    "        proj_output = self.dense_proj(proj_input)\n",
    "        return self.layernorm_2(proj_input + proj_output)\n",
    "\n",
    "    def get_config(self):\n",
    "        config = super().get_config().copy()\n",
    "        config.update({\n",
    "            'embed_dim': self.embed_dim,\n",
    "            'dense_dim': self.dense_dim,\n",
    "            'num_heads': self.num_heads\n",
    "        })\n",
    "        return config\n",
    "\n",
    "class PositionalEmbedding(layers.Layer):\n",
    "    def __init__(self, sequence_length, vocab_size, embed_dim, **kwargs):\n",
    "        super(PositionalEmbedding, self).__init__(**kwargs)\n",
    "        self.token_embeddings = layers.Embedding(\n",
    "            input_dim=vocab_size, output_dim=embed_dim\n",
    "        )\n",
    "        self.position_embeddings = layers.Embedding(\n",
    "            input_dim=sequence_length, output_dim=embed_dim\n",
    "        )\n",
    "        self.sequence_length = sequence_length\n",
    "        self.vocab_size = vocab_size\n",
    "        self.embed_dim = embed_dim\n",
    "\n",
    "    def call(self, inputs):\n",
    "        length = tf.shape(inputs)[-1]\n",
    "        positions = tf.range(start=0, limit=length, delta=1)\n",
    "        embedded_tokens = self.token_embeddings(inputs)\n",
    "        embedded_positions = self.position_embeddings(positions)\n",
    "        return embedded_tokens + embedded_positions\n",
    "\n",
    "    def compute_mask(self, inputs, mask=None):\n",
    "        return tf.math.not_equal(inputs, 0)\n",
    "    \n",
    "    def get_config(self):\n",
    "        config = super().get_config().copy()\n",
    "        config.update({\n",
    "            'sequence_length': self.sequence_length,\n",
    "            'vocab_size': self.vocab_size,\n",
    "            'embed_dim': self.embed_dim\n",
    "        })\n",
    "        return config\n",
    "\n",
    "class TransformerDecoder(layers.Layer):\n",
    "    def __init__(self, embed_dim, latent_dim, num_heads, **kwargs):\n",
    "        super(TransformerDecoder, self).__init__(**kwargs)\n",
    "        self.embed_dim = embed_dim\n",
    "        self.latent_dim = latent_dim\n",
    "        self.num_heads = num_heads\n",
    "        self.attention_1 = layers.MultiHeadAttention(\n",
    "            num_heads=num_heads, key_dim=embed_dim\n",
    "        )\n",
    "        self.attention_2 = layers.MultiHeadAttention(\n",
    "            num_heads=num_heads, key_dim=embed_dim\n",
    "        )\n",
    "        self.dense_proj = keras.Sequential(\n",
    "            [layers.Dense(latent_dim, activation=\"relu\"), layers.Dense(embed_dim),]\n",
    "        )\n",
    "        self.layernorm_1 = layers.LayerNormalization()\n",
    "        self.layernorm_2 = layers.LayerNormalization()\n",
    "        self.layernorm_3 = layers.LayerNormalization()\n",
    "        self.supports_masking = True\n",
    "\n",
    "    def call(self, inputs, encoder_outputs, mask=None):\n",
    "        causal_mask = self.get_causal_attention_mask(inputs)\n",
    "        if mask is not None:\n",
    "            padding_mask = tf.cast(mask[:, tf.newaxis, :], dtype=\"int32\")\n",
    "            padding_mask = tf.minimum(padding_mask, causal_mask)\n",
    "\n",
    "        attention_output_1 = self.attention_1(\n",
    "            query=inputs, value=inputs, key=inputs, attention_mask=causal_mask\n",
    "        )\n",
    "        out_1 = self.layernorm_1(inputs + attention_output_1)\n",
    "\n",
    "        attention_output_2 = self.attention_2(\n",
    "            query=out_1,\n",
    "            value=encoder_outputs,\n",
    "            key=encoder_outputs,\n",
    "            attention_mask=padding_mask,\n",
    "        )\n",
    "        out_2 = self.layernorm_2(out_1 + attention_output_2)\n",
    "\n",
    "        proj_output = self.dense_proj(out_2)\n",
    "        return self.layernorm_3(out_2 + proj_output)\n",
    "\n",
    "    def get_causal_attention_mask(self, inputs):\n",
    "        input_shape = tf.shape(inputs)\n",
    "        batch_size, sequence_length = input_shape[0], input_shape[1]\n",
    "        i = tf.range(sequence_length)[:, tf.newaxis]\n",
    "        j = tf.range(sequence_length)\n",
    "        mask = tf.cast(i >= j, dtype=\"int32\")\n",
    "        mask = tf.reshape(mask, (1, input_shape[1], input_shape[1]))\n",
    "        mult = tf.concat(\n",
    "            [tf.expand_dims(batch_size, -1), tf.constant([1, 1], dtype=tf.int32)],\n",
    "            axis=0,\n",
    "        )\n",
    "        return tf.tile(mask, mult)\n",
    "    \n",
    "    def get_config(self):\n",
    "        config = super().get_config().copy()\n",
    "        config.update({\n",
    "            'embed_dim': self.embed_dim,\n",
    "            'latent_dim': self.latent_dim,\n",
    "            'num_heads': self.num_heads\n",
    "        })\n",
    "        return config"
   ]
  },
  {
   "cell_type": "code",
   "execution_count": 13,
   "id": "89de7fec",
   "metadata": {
    "execution": {
     "iopub.execute_input": "2022-04-26T18:40:02.435658Z",
     "iopub.status.busy": "2022-04-26T18:40:02.434865Z",
     "iopub.status.idle": "2022-04-26T18:40:03.472364Z",
     "shell.execute_reply": "2022-04-26T18:40:03.471889Z",
     "shell.execute_reply.started": "2022-04-26T18:31:30.583300Z"
    },
    "papermill": {
     "duration": 1.066034,
     "end_time": "2022-04-26T18:40:03.472492",
     "exception": false,
     "start_time": "2022-04-26T18:40:02.406458",
     "status": "completed"
    },
    "tags": []
   },
   "outputs": [],
   "source": [
    "embed_dim = 256\n",
    "latent_dim = 2048\n",
    "num_heads = 8\n",
    "\n",
    "encoder_inputs = keras.Input(shape=(None,), dtype=\"int64\", name=\"encoder_inputs\")\n",
    "x = PositionalEmbedding(sequence_length, vocab_size, embed_dim)(encoder_inputs)\n",
    "encoder_outputs = TransformerEncoder(embed_dim, latent_dim, num_heads)(x)\n",
    "encoder = keras.Model(encoder_inputs, encoder_outputs)\n",
    "\n",
    "decoder_inputs = keras.Input(shape=(None,), dtype=\"int64\", name=\"decoder_inputs\")\n",
    "encoded_seq_inputs = keras.Input(shape=(None, embed_dim), name=\"decoder_state_inputs\")\n",
    "x = PositionalEmbedding(sequence_length, vocab_size, embed_dim)(decoder_inputs)\n",
    "x = TransformerDecoder(embed_dim, latent_dim, num_heads)(x, encoded_seq_inputs)\n",
    "x = layers.Dropout(0.5)(x)\n",
    "decoder_outputs = layers.Dense(vocab_size, activation=\"softmax\")(x)\n",
    "decoder = keras.Model([decoder_inputs, encoded_seq_inputs], decoder_outputs)\n",
    "\n",
    "decoder_outputs = decoder([decoder_inputs, encoder_outputs])\n",
    "transformer = keras.Model(\n",
    "    [encoder_inputs, decoder_inputs], decoder_outputs, name=\"transformer\"\n",
    ")"
   ]
  },
  {
   "cell_type": "markdown",
   "id": "22e7a470",
   "metadata": {
    "papermill": {
     "duration": 0.019527,
     "end_time": "2022-04-26T18:40:03.512025",
     "exception": false,
     "start_time": "2022-04-26T18:40:03.492498",
     "status": "completed"
    },
    "tags": []
   },
   "source": [
    "## 3. Training our model"
   ]
  },
  {
   "cell_type": "code",
   "execution_count": 12,
   "id": "3a8b2a57",
   "metadata": {
    "execution": {
     "iopub.execute_input": "2022-04-26T18:40:03.556609Z",
     "iopub.status.busy": "2022-04-26T18:40:03.555720Z",
     "iopub.status.idle": "2022-04-26T21:11:48.480965Z",
     "shell.execute_reply": "2022-04-26T21:11:48.481355Z",
     "shell.execute_reply.started": "2022-04-26T18:31:35.883958Z"
    },
    "papermill": {
     "duration": 9104.949887,
     "end_time": "2022-04-26T21:11:48.481508",
     "exception": false,
     "start_time": "2022-04-26T18:40:03.531621",
     "status": "completed"
    },
    "tags": []
   },
   "outputs": [
    {
     "name": "stdout",
     "output_type": "stream",
     "text": [
      "Model: \"transformer\"\n",
      "__________________________________________________________________________________________________\n",
      "Layer (type)                    Output Shape         Param #     Connected to                     \n",
      "==================================================================================================\n",
      "encoder_inputs (InputLayer)     [(None, None)]       0                                            \n",
      "__________________________________________________________________________________________________\n",
      "positional_embedding (Positiona (None, None, 256)    3850240     encoder_inputs[0][0]             \n",
      "__________________________________________________________________________________________________\n",
      "decoder_inputs (InputLayer)     [(None, None)]       0                                            \n",
      "__________________________________________________________________________________________________\n",
      "transformer_encoder (Transforme (None, None, 256)    3155456     positional_embedding[0][0]       \n",
      "__________________________________________________________________________________________________\n",
      "model_1 (Functional)            (None, None, 15000)  12964760    decoder_inputs[0][0]             \n",
      "                                                                 transformer_encoder[0][0]        \n",
      "==================================================================================================\n",
      "Total params: 19,970,456\n",
      "Trainable params: 19,970,456\n",
      "Non-trainable params: 0\n",
      "__________________________________________________________________________________________________\n",
      "Epoch 1/50\n",
      "   1/1747 [..............................] - ETA: 2:58:07 - loss: 3.9949 - accuracy: 9.4251e-04"
     ]
    },
    {
     "name": "stderr",
     "output_type": "stream",
     "text": [
      "2022-04-26 18:40:09.545252: I tensorflow/stream_executor/cuda/cuda_dnn.cc:369] Loaded cuDNN version 8005\n"
     ]
    },
    {
     "name": "stdout",
     "output_type": "stream",
     "text": [
      "1747/1747 [==============================] - 167s 92ms/step - loss: 2.3505 - accuracy: 0.2573 - val_loss: 2.0354 - val_accuracy: 0.3293\n",
      "Epoch 2/50\n",
      "1747/1747 [==============================] - 160s 91ms/step - loss: 2.0257 - accuracy: 0.3423 - val_loss: 1.8452 - val_accuracy: 0.3719\n",
      "Epoch 3/50\n",
      "1747/1747 [==============================] - 160s 92ms/step - loss: 1.8617 - accuracy: 0.3812 - val_loss: 1.7357 - val_accuracy: 0.3989\n",
      "Epoch 4/50\n",
      "1747/1747 [==============================] - 160s 92ms/step - loss: 1.7485 - accuracy: 0.4087 - val_loss: 1.6806 - val_accuracy: 0.4162\n",
      "Epoch 5/50\n",
      "1747/1747 [==============================] - 160s 92ms/step - loss: 1.6793 - accuracy: 0.4283 - val_loss: 1.6585 - val_accuracy: 0.4226\n",
      "Epoch 6/50\n",
      "1747/1747 [==============================] - 160s 92ms/step - loss: 1.6442 - accuracy: 0.4438 - val_loss: 1.6570 - val_accuracy: 0.4281\n",
      "Epoch 7/50\n",
      "1747/1747 [==============================] - 161s 92ms/step - loss: 1.6174 - accuracy: 0.4563 - val_loss: 1.6525 - val_accuracy: 0.4313\n",
      "Epoch 8/50\n",
      "1747/1747 [==============================] - 160s 92ms/step - loss: 1.5912 - accuracy: 0.4670 - val_loss: 1.6513 - val_accuracy: 0.4360\n",
      "Epoch 9/50\n",
      "1747/1747 [==============================] - 160s 92ms/step - loss: 1.5677 - accuracy: 0.4768 - val_loss: 1.6489 - val_accuracy: 0.4366\n",
      "Epoch 10/50\n",
      "1747/1747 [==============================] - 160s 92ms/step - loss: 1.5454 - accuracy: 0.4857 - val_loss: 1.6522 - val_accuracy: 0.4388\n",
      "Epoch 11/50\n",
      "1747/1747 [==============================] - 160s 92ms/step - loss: 1.5236 - accuracy: 0.4942 - val_loss: 1.6563 - val_accuracy: 0.4394\n",
      "Epoch 12/50\n",
      "1747/1747 [==============================] - 160s 92ms/step - loss: 1.5031 - accuracy: 0.5020 - val_loss: 1.6653 - val_accuracy: 0.4393\n",
      "Epoch 13/50\n",
      "1747/1747 [==============================] - 160s 92ms/step - loss: 1.4831 - accuracy: 0.5097 - val_loss: 1.6722 - val_accuracy: 0.4379\n",
      "Epoch 14/50\n",
      "1747/1747 [==============================] - 161s 92ms/step - loss: 1.4632 - accuracy: 0.5172 - val_loss: 1.6804 - val_accuracy: 0.4363\n",
      "Epoch 15/50\n",
      "1747/1747 [==============================] - 160s 92ms/step - loss: 1.4438 - accuracy: 0.5245 - val_loss: 1.6819 - val_accuracy: 0.4385\n",
      "Epoch 16/50\n",
      "1747/1747 [==============================] - 160s 92ms/step - loss: 1.4247 - accuracy: 0.5315 - val_loss: 1.6961 - val_accuracy: 0.4369\n",
      "Epoch 17/50\n",
      "1747/1747 [==============================] - 160s 92ms/step - loss: 1.4064 - accuracy: 0.5383 - val_loss: 1.7095 - val_accuracy: 0.4364\n",
      "Epoch 18/50\n",
      "1747/1747 [==============================] - 160s 92ms/step - loss: 1.3882 - accuracy: 0.5450 - val_loss: 1.7168 - val_accuracy: 0.4366\n",
      "Epoch 19/50\n",
      "1747/1747 [==============================] - 160s 92ms/step - loss: 1.3707 - accuracy: 0.5517 - val_loss: 1.7200 - val_accuracy: 0.4355\n",
      "Epoch 20/50\n",
      "1747/1747 [==============================] - 160s 92ms/step - loss: 1.3544 - accuracy: 0.5575 - val_loss: 1.7362 - val_accuracy: 0.4301\n",
      "Epoch 21/50\n",
      "1747/1747 [==============================] - 160s 92ms/step - loss: 1.3375 - accuracy: 0.5636 - val_loss: 1.7455 - val_accuracy: 0.4344\n",
      "Epoch 22/50\n",
      "1747/1747 [==============================] - 160s 92ms/step - loss: 1.3211 - accuracy: 0.5699 - val_loss: 1.7550 - val_accuracy: 0.4305\n",
      "Epoch 23/50\n",
      "1747/1747 [==============================] - 160s 92ms/step - loss: 1.3058 - accuracy: 0.5754 - val_loss: 1.7601 - val_accuracy: 0.4315\n",
      "Epoch 24/50\n",
      "1747/1747 [==============================] - 161s 92ms/step - loss: 1.2921 - accuracy: 0.5807 - val_loss: 1.7746 - val_accuracy: 0.4295\n",
      "Epoch 25/50\n",
      "1747/1747 [==============================] - 160s 92ms/step - loss: 1.2783 - accuracy: 0.5860 - val_loss: 1.7769 - val_accuracy: 0.4303\n",
      "Epoch 26/50\n",
      "1747/1747 [==============================] - 160s 92ms/step - loss: 1.2653 - accuracy: 0.5913 - val_loss: 1.8017 - val_accuracy: 0.4298\n",
      "Epoch 27/50\n",
      "1747/1747 [==============================] - 161s 92ms/step - loss: 1.2541 - accuracy: 0.5958 - val_loss: 1.8136 - val_accuracy: 0.4279\n",
      "Epoch 28/50\n",
      "1747/1747 [==============================] - 161s 92ms/step - loss: 1.2422 - accuracy: 0.6010 - val_loss: 1.8207 - val_accuracy: 0.4281\n",
      "Epoch 29/50\n",
      "1747/1747 [==============================] - 160s 92ms/step - loss: 1.2295 - accuracy: 0.6052 - val_loss: 1.8371 - val_accuracy: 0.4239\n",
      "Epoch 30/50\n",
      "1747/1747 [==============================] - 160s 92ms/step - loss: 1.2169 - accuracy: 0.6101 - val_loss: 1.8514 - val_accuracy: 0.4251\n",
      "Epoch 31/50\n",
      "1747/1747 [==============================] - 160s 92ms/step - loss: 1.2034 - accuracy: 0.6147 - val_loss: 1.8687 - val_accuracy: 0.4242\n",
      "Epoch 32/50\n",
      "1747/1747 [==============================] - 160s 92ms/step - loss: 1.1904 - accuracy: 0.6193 - val_loss: 1.8616 - val_accuracy: 0.4238\n",
      "Epoch 33/50\n",
      "1747/1747 [==============================] - 160s 92ms/step - loss: 1.1785 - accuracy: 0.6233 - val_loss: 1.8872 - val_accuracy: 0.4213\n",
      "Epoch 34/50\n",
      "1747/1747 [==============================] - 160s 92ms/step - loss: 1.1666 - accuracy: 0.6271 - val_loss: 1.9051 - val_accuracy: 0.4218\n",
      "Epoch 35/50\n",
      "1747/1747 [==============================] - 161s 92ms/step - loss: 1.1563 - accuracy: 0.6309 - val_loss: 1.8981 - val_accuracy: 0.4212\n",
      "Epoch 36/50\n",
      "1747/1747 [==============================] - 160s 92ms/step - loss: 1.1454 - accuracy: 0.6348 - val_loss: 1.9130 - val_accuracy: 0.4197\n",
      "Epoch 37/50\n",
      "1747/1747 [==============================] - 160s 91ms/step - loss: 1.1348 - accuracy: 0.6380 - val_loss: 1.9359 - val_accuracy: 0.4189\n",
      "Epoch 38/50\n",
      "1747/1747 [==============================] - 160s 92ms/step - loss: 1.1254 - accuracy: 0.6415 - val_loss: 1.9258 - val_accuracy: 0.4190\n",
      "Epoch 39/50\n",
      "1747/1747 [==============================] - 161s 92ms/step - loss: 1.1162 - accuracy: 0.6446 - val_loss: 1.9479 - val_accuracy: 0.4190\n",
      "Epoch 40/50\n",
      "1747/1747 [==============================] - 159s 91ms/step - loss: 1.1075 - accuracy: 0.6478 - val_loss: 1.9600 - val_accuracy: 0.4194\n",
      "Epoch 41/50\n",
      "1747/1747 [==============================] - 161s 92ms/step - loss: 1.0993 - accuracy: 0.6512 - val_loss: 1.9823 - val_accuracy: 0.4155\n",
      "Epoch 42/50\n",
      "1747/1747 [==============================] - 160s 92ms/step - loss: 1.0929 - accuracy: 0.6538 - val_loss: 1.9805 - val_accuracy: 0.4172\n",
      "Epoch 43/50\n",
      "1747/1747 [==============================] - 159s 91ms/step - loss: 1.0855 - accuracy: 0.6569 - val_loss: 1.9903 - val_accuracy: 0.4151\n",
      "Epoch 44/50\n",
      "1747/1747 [==============================] - 161s 92ms/step - loss: 1.0789 - accuracy: 0.6596 - val_loss: 1.9957 - val_accuracy: 0.4155\n",
      "Epoch 45/50\n",
      "1747/1747 [==============================] - 160s 92ms/step - loss: 1.0733 - accuracy: 0.6617 - val_loss: 2.0283 - val_accuracy: 0.4140\n",
      "Epoch 46/50\n",
      "1747/1747 [==============================] - 159s 91ms/step - loss: 1.0661 - accuracy: 0.6646 - val_loss: 2.0223 - val_accuracy: 0.4145\n",
      "Epoch 47/50\n",
      "1747/1747 [==============================] - 161s 92ms/step - loss: 1.0593 - accuracy: 0.6666 - val_loss: 2.0300 - val_accuracy: 0.4104\n",
      "Epoch 48/50\n",
      "1747/1747 [==============================] - 161s 92ms/step - loss: 1.0518 - accuracy: 0.6690 - val_loss: 2.0404 - val_accuracy: 0.4109\n",
      "Epoch 49/50\n",
      "1747/1747 [==============================] - 160s 91ms/step - loss: 1.0440 - accuracy: 0.6719 - val_loss: 2.0468 - val_accuracy: 0.4136\n",
      "Epoch 50/50\n",
      "1747/1747 [==============================] - 161s 92ms/step - loss: 1.0374 - accuracy: 0.6740 - val_loss: 2.0471 - val_accuracy: 0.4111\n"
     ]
    }
   ],
   "source": [
    "epochs = 50\n",
    "\n",
    "transformer.summary()\n",
    "transformer.compile(\n",
    "    optimizer=\"rmsprop\", \n",
    "    loss=\"sparse_categorical_crossentropy\", \n",
    "    metrics=[\"accuracy\"]\n",
    ")\n",
    "history = transformer.fit(train_ds, epochs=epochs, validation_data=val_ds)"
   ]
  },
  {
   "cell_type": "code",
   "execution_count": 13,
   "id": "6f661fa4",
   "metadata": {
    "execution": {
     "iopub.execute_input": "2022-04-26T21:12:47.466836Z",
     "iopub.status.busy": "2022-04-26T21:12:47.466037Z",
     "iopub.status.idle": "2022-04-26T21:12:47.470001Z",
     "shell.execute_reply": "2022-04-26T21:12:47.469365Z",
     "shell.execute_reply.started": "2022-04-26T18:34:16.317483Z"
    },
    "papermill": {
     "duration": 29.702415,
     "end_time": "2022-04-26T21:12:47.470139",
     "exception": false,
     "start_time": "2022-04-26T21:12:17.767724",
     "status": "completed"
    },
    "tags": []
   },
   "outputs": [],
   "source": [
    "json.dump(history.history, open('./history.json', 'w'))"
   ]
  },
  {
   "cell_type": "markdown",
   "id": "b9172310",
   "metadata": {},
   "source": [
    "Plot loss and accuracy"
   ]
  },
  {
   "cell_type": "code",
   "execution_count": 6,
   "id": "8fb27662",
   "metadata": {},
   "outputs": [
    {
     "data": {
      "image/png": "[encoded data removed]",
      "text/plain": [
       "<Figure size 1000x500 with 1 Axes>"
      ]
     },
     "metadata": {},
     "output_type": "display_data"
    },
    {
     "data": {
      "image/png": "[encoded data removed]",
      "text/plain": [
       "<Figure size 1000x500 with 1 Axes>"
      ]
     },
     "metadata": {},
     "output_type": "display_data"
    }
   ],
   "source": [
    "with open('history.json', 'r') as f:\n",
    "    history = json.load(f)\n",
    "\n",
    "epochs = range(1, len(history['loss']) + 1)\n",
    "\n",
    "# Vẽ Loss\n",
    "plt.figure(figsize=(10,5))\n",
    "plt.plot(epochs, history['loss'], label='Training Loss')\n",
    "plt.plot(epochs, history['val_loss'], label='Validation Loss')\n",
    "plt.xlabel('Epochs')\n",
    "plt.ylabel('Loss')\n",
    "plt.title('Training and Validation Loss')\n",
    "plt.legend()\n",
    "plt.grid(True)\n",
    "plt.show()\n",
    "\n",
    "# Vẽ Accuracy\n",
    "plt.figure(figsize=(10,5))\n",
    "plt.plot(epochs, history['accuracy'], label='Training Accuracy')\n",
    "plt.plot(epochs, history['val_accuracy'], label='Validation Accuracy')\n",
    "plt.xlabel('Epochs')\n",
    "plt.ylabel('Accuracy')\n",
    "plt.title('Training and Validation Accuracy')\n",
    "plt.legend()\n",
    "plt.grid(True)\n",
    "plt.show()"
   ]
  },
  {
   "cell_type": "code",
   "execution_count": 14,
   "id": "23c545f5",
   "metadata": {
    "execution": {
     "iopub.execute_input": "2022-04-26T21:13:45.724369Z",
     "iopub.status.busy": "2022-04-26T21:13:45.723530Z",
     "iopub.status.idle": "2022-04-26T21:13:46.021119Z",
     "shell.execute_reply": "2022-04-26T21:13:46.020206Z",
     "shell.execute_reply.started": "2022-04-26T18:34:16.324170Z"
    },
    "papermill": {
     "duration": 29.05336,
     "end_time": "2022-04-26T21:13:46.021258",
     "exception": false,
     "start_time": "2022-04-26T21:13:16.967898",
     "status": "completed"
    },
    "tags": []
   },
   "outputs": [],
   "source": [
    "transformer.save('./best_model.h5')"
   ]
  },
  {
   "cell_type": "code",
   "execution_count": 15,
   "id": "23798dbb",
   "metadata": {
    "execution": {
     "iopub.execute_input": "2022-04-26T21:14:45.071072Z",
     "iopub.status.busy": "2022-04-26T21:14:45.070022Z",
     "iopub.status.idle": "2022-04-26T21:14:45.117136Z",
     "shell.execute_reply": "2022-04-26T21:14:45.116615Z",
     "shell.execute_reply.started": "2022-04-26T18:36:21.212141Z"
    },
    "papermill": {
     "duration": 29.595693,
     "end_time": "2022-04-26T21:14:45.117272",
     "exception": false,
     "start_time": "2022-04-26T21:14:15.521579",
     "status": "completed"
    },
    "tags": []
   },
   "outputs": [],
   "source": [
    "vi_vocab = vi_vectorization.get_vocabulary()\n",
    "vi_index_lookup = dict(zip(range(len(vi_vocab)), vi_vocab))\n",
    "max_decoded_sentence_length = 40\n",
    "\n",
    "def decode_sequence(input_sentence):\n",
    "    tokenized_input_sentence = en_vectorization([input_sentence])\n",
    "    decoded_sentence = '[start]'\n",
    "    for i in range(max_decoded_sentence_length):\n",
    "        tokenized_target_sentence = vi_vectorization([decoded_sentence])[:, :-1]\n",
    "        predictions = transformer([tokenized_input_sentence, tokenized_target_sentence])\n",
    "        \n",
    "        sampled_token_index = np.argmax(predictions[0, i, :])\n",
    "        sampled_token = vi_index_lookup[sampled_token_index]\n",
    "        decoded_sentence += ' ' + sampled_token\n",
    "        \n",
    "        if sampled_token == '[end]':\n",
    "            break\n",
    "    return decoded_sentence"
   ]
  },
  {
   "cell_type": "code",
   "execution_count": null,
   "id": "b5b3992f",
   "metadata": {
    "execution": {
     "iopub.execute_input": "2022-04-26T21:15:43.440666Z",
     "iopub.status.busy": "2022-04-26T21:15:43.439908Z",
     "iopub.status.idle": "2022-04-26T21:15:48.140586Z",
     "shell.execute_reply": "2022-04-26T21:15:48.141074Z",
     "shell.execute_reply.started": "2022-04-26T18:36:22.407610Z"
    },
    "papermill": {
     "duration": 33.793404,
     "end_time": "2022-04-26T21:15:48.141235",
     "exception": false,
     "start_time": "2022-04-26T21:15:14.347831",
     "status": "completed"
    },
    "tags": []
   },
   "outputs": [
    {
     "name": "stdout",
     "output_type": "stream",
     "text": [
      "01: Knowledge, practices in public health service utilization among health insurance card’s holders and influencing factors in Vientiane, Lao ---> [start]Thực trạng kiến thức và thực hành của người có thẻ bảo hiểm y tế trong sử dụng dịch vụ khám chữa bệnh ở các cơ sở y tế công và một số yếu tố ảnh hưởng tại tỉnh Viêng Chăn, CHDCND Lào, năm 2017 [end]\n",
      "02: Describe knowledge, practices in public health service utilization among health insurance card's holders and influencing factors in Vientiane, Lao PDR, 2017. ---> [start]Mô tả thực trạng kiến thức, thực hành của người có thẻ bảo hiểm y tế trong sử dụng dịch vụ khám chữa bệnh ở các cơ sở y tế công và một số yếu tố liên quan tại tỉnh Viêng Chăn, Cộng hoà Dân chủ Nhân dân Lào năm 2017. [end]\n",
      "03: Methodology: A cross sectional study was used among 928 adult health insurance card's holders in Phone Hong and Keo Oudom districts, Vientiane province. ---> [start]Phương pháp: Thiết kế nghiên mô tả cắt ngang được thực hiện trên 928 người trưởng thành có thẻ bảo hiểm y tế tại 2 huyện Phone Hong và Keo Oudom, tỉnh Viêng Chăn. [end]\n",
      "04: Results: Percentage of card's holders who knew the finance-free utilization of the first registered public health services was 44.5% and being provided health insurance information was 34.8%. ---> [start]Kết quả: Tỷ lệ người biết được khám chữa bệnh (KCB) miễn phí tại nơi đăng ký ban đầu chiếm 44,5%, được cung cấp thông tin về bảo hiểm y tế (BHYT) chiếm 34,8%. [end]\n",
      "05: Percentage of card's holders who went to the first registered public health services was 61.8%. ---> [start]Tỷ lệ người có thẻ BHYT thực hành khám chữa bệnh đúng nơi đăng ký KCB ban đầu chiếm 61,8%. [end]\n",
      "06: Percentage of card's holders who went to public health services to receive medicines for their relatives / others people was 20.1%. ---> [start]Tỷ lệ người có thẻ BHYT sử dụng thẻ để lấy thuốc cho người khác khá cao (20,1%). [end]\n",
      "07: The determinants of knowledge and practices in public health service utilization among health insurance card's holders were distance and time taken to health services, time of health insurance and health insurance information provided. ---> [start]Các yếu tố khoảng cách từ nhà đến cơ sở y tế, thời gian tham gia BHYT và được tiếp nhận thông tin về BHYT của người có thẻ BHYT là những yếu tố ảnh hưởng đến kiến thức và thực hành sử dụng thẻ BHYT trong khám chữa bệnh. [end]\n",
      "08: Conclusions: Knowledge and practices in public health service utilization among health insurance card's holders were still limited. ---> [start]Kết luận: Kiến thức và thực hành của người có thẻ BHYT trong sử dụng dịch vụ y tế công tại Cộng hoà Dân chủ Nhân dân Lào còn hạn chế. [end]\n",
      "09: It's necessary to provide health insurance communication and education for people who live in remote areas and participate interupted health insurance. ---> [start]Cần tập trung vào truyền thông cho những nhóm người sống xa cơ sở y tế và những người tham gia bảo hiểm y tế không liên tục. [end]\n",
      "10: Studying the method of quantification of diclofenac sodium in traditional herbal medicines used for treatment or support osteoarthritis by high performance liquid chromatography ---> [start]Nghiên cứu xác định thuốc diclofenac natri lẫn trong chế phẩm đông dược được sử dụng điều trị hoặc hỗ trợ điều trị các bệnh về xương khớp bằng phương pháp sắc ký lỏng hiệu năng cao [end]\n"
     ]
    }
   ],
   "source": [
    "for i in range(10):\n",
    "    input_sentence = random.choice(test_en)\n",
    "    translated = decode_sequence(input_sentence)\n",
    "    print(f'{\"%02d\" % (i + 1)}: {input_sentence} ---> {translated}')"
   ]
  },
  {
   "cell_type": "markdown",
   "id": "5c0d8785",
   "metadata": {},
   "source": [
    "# B. Analyzing NMT Systems"
   ]
  },
  {
   "cell_type": "markdown",
   "id": "18114c26",
   "metadata": {},
   "source": [
    "# 1. Translation test set"
   ]
  },
  {
   "cell_type": "code",
   "execution_count": 15,
   "id": "1bbe1b34",
   "metadata": {},
   "outputs": [],
   "source": [
    "model = keras.models.load_model(\n",
    "    \"best_model.h5\",\n",
    "    custom_objects={\n",
    "        \"TransformerEncoder\": TransformerEncoder,\n",
    "        \"TransformerDecoder\": TransformerDecoder,\n",
    "        \"PositionalEmbedding\": PositionalEmbedding\n",
    "    }\n",
    ")"
   ]
  },
  {
   "cell_type": "code",
   "execution_count": 25,
   "id": "ecfc9770",
   "metadata": {},
   "outputs": [],
   "source": [
    "start_token = vi_vectorization([\"<start>\"]).numpy()[0, 0]\n",
    "end_token = vi_vectorization([\"<end>\"]).numpy()[0, 0]\n",
    "max_len = 40\n",
    "\n",
    "def translate_sentence(sentence):\n",
    "    encoder_input = en_vectorization([sentence])\n",
    "\n",
    "    decoder_input = np.zeros((1, max_len), dtype=np.int64)\n",
    "    decoder_input[0, 0] = start_token\n",
    "\n",
    "    for i in range(1, max_len):\n",
    "        preds = model({\"encoder_inputs\": encoder_input, \"decoder_inputs\": decoder_input})\n",
    "        next_token = tf.argmax(preds[0, i-1]).numpy()\n",
    "        decoder_input[0, i] = next_token\n",
    "        if next_token == end_token:\n",
    "            break\n",
    "\n",
    "    ids = decoder_input[0, 1:i]  # bỏ <start>\n",
    "    words = vi_vectorization.get_vocabulary()\n",
    "    tokens = [words[t] for t in ids if t != 0 and t != end_token]\n",
    "    return \" \".join(tokens)"
   ]
  },
  {
   "cell_type": "markdown",
   "id": "99814d99",
   "metadata": {},
   "source": [
    "BLEU"
   ]
  },
  {
   "cell_type": "code",
   "execution_count": 7,
   "id": "33001175",
   "metadata": {},
   "outputs": [
    {
     "name": "stdout",
     "output_type": "stream",
     "text": [
      "BLEU score: 22.59\n"
     ]
    }
   ],
   "source": [
    "import sacrebleu\n",
    "\n",
    "with open(\"outputs/test_outputs.txt\", \"r\", encoding=\"utf-8\") as f:\n",
    "    machine_trans = [line.strip() for line in f]\n",
    "\n",
    "with open(\"data/test.vi.txt\", \"r\", encoding=\"utf-8\") as f:\n",
    "    reference_trans = [line.strip() for line in f]\n",
    "\n",
    "# Tính BLEU score\n",
    "bleu = sacrebleu.corpus_bleu(machine_trans, [reference_trans])\n",
    "print(f\"BLEU score: {bleu.score:.2f}\")"
   ]
  }
 ],
 "metadata": {
  "kernelspec": {
   "display_name": "nmt",
   "language": "python",
   "name": "python3"
  },
  "language_info": {
   "codemirror_mode": {
    "name": "ipython",
    "version": 3
   },
   "file_extension": ".py",
   "mimetype": "text/x-python",
   "name": "python",
   "nbconvert_exporter": "python",
   "pygments_lexer": "ipython3",
   "version": "3.10.18"
  },
  "papermill": {
   "default_parameters": {},
   "duration": 9432.266956,
   "end_time": "2022-04-26T21:16:20.458138",
   "environment_variables": {},
   "exception": null,
   "input_path": "__notebook__.ipynb",
   "output_path": "__notebook__.ipynb",
   "parameters": {},
   "start_time": "2022-04-26T18:39:08.191182",
   "version": "2.3.3"
  }
 },
 "nbformat": 4,
 "nbformat_minor": 5
}
